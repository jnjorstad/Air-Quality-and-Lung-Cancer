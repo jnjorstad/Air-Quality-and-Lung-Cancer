{
 "cells": [
  {
   "cell_type": "code",
   "execution_count": null,
   "id": "b5013b3f",
   "metadata": {},
   "outputs": [],
   "source": [
    "#dependencies\n",
    "import matplotlib.pyplot as plt\n",
    "import numpy as np\n",
    "import pandas as pd\n",
    "from pathlib import Path\n",
    "from sklearn.model_selection import train_test_split\n"
   ]
  },
  {
   "cell_type": "code",
   "execution_count": null,
   "id": "3ee71c82",
   "metadata": {},
   "outputs": [],
   "source": [
    "#load dataset\n",
    "file_path = Path(\"Data_Set_Final_LTD_Slope_Intercept.csv\")\n",
    "df = pd.read_csv(file_path)\n",
    "df.head()"
   ]
  },
  {
   "cell_type": "code",
   "execution_count": null,
   "id": "48d01d54",
   "metadata": {},
   "outputs": [],
   "source": [
    "#remove unnecessary columns\n",
    "cleaned_df = df.drop(columns=['Status Variable', 'Status', 'Inter', 'Slp', 'control', 'treat', 'Local_Treat'])\n",
    "cleaned_df.head()"
   ]
  },
  {
   "cell_type": "code",
   "execution_count": null,
   "id": "dc7a57c5",
   "metadata": {},
   "outputs": [],
   "source": []
  }
 ],
 "metadata": {
  "kernelspec": {
   "display_name": "Python [conda env:PythonData38] *",
   "language": "python",
   "name": "conda-env-PythonData38-py"
  },
  "language_info": {
   "codemirror_mode": {
    "name": "ipython",
    "version": 3
   },
   "file_extension": ".py",
   "mimetype": "text/x-python",
   "name": "python",
   "nbconvert_exporter": "python",
   "pygments_lexer": "ipython3",
   "version": "3.8.12"
  }
 },
 "nbformat": 4,
 "nbformat_minor": 5
}
