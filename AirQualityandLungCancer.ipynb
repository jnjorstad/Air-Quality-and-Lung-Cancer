{
 "cells": [
  {
   "cell_type": "code",
   "execution_count": null,
   "id": "b5013b3f",
   "metadata": {},
   "outputs": [],
   "source": [
    "#dependencies\n",
    "import matplotlib.pyplot as plt\n",
    "import numpy as np\n",
    "import pandas as pd\n",
    "from pathlib import Path\n",
    "from sklearn.model_selection import train_test_split\n",
    "from sklearn.linear_model import LogisticRegression\n",
    "from sklearn.ensemble import RandomForestClassifier\n",
    "from sklearn.preprocessing import StandardScaler\n",
    "import os"
   ]
  },
  {
   "cell_type": "code",
   "execution_count": null,
   "id": "3ee71c82",
   "metadata": {},
   "outputs": [],
   "source": [
    "#load dataset\n",
    "file_path = Path(\"Data_Set_Final_LTD_Slope_Intercept.csv\")\n",
    "df = pd.read_csv(file_path)\n",
    "df.head()"
   ]
  },
  {
   "cell_type": "code",
   "execution_count": null,
   "id": "48d01d54",
   "metadata": {},
   "outputs": [],
   "source": [
    "#remove unnecessary columns\n",
    "cleaned_df = df.drop(columns=['Status_Variable', 'Status', 'Inter', 'Slp', 'control', 'treat', 'Local_Treat'])\n",
    "cleaned_df.head()"
   ]
  },
  {
   "cell_type": "code",
   "execution_count": null,
   "id": "dc7a57c5",
   "metadata": {},
   "outputs": [],
   "source": [
    "#assign the data to X and y\n",
    "#County, State and RT columns not included due to not being numeric.\n",
    "X = df[['FIPS_code', 'PM2.5', 'Land_EQI', 'Sociod_EQI', 'Built_EQI', 'LTD', 'Intercept',\n",
    "       'Slope', 'CLU50_1', 'PM10', 'SO2', 'NO2', 'O3', 'CO', 'CN', 'Disel', 'CS2', 'Air_EQI',\n",
    "       'Water_EQI', 'EQI', 'LCI', 'UCI', 'AAC']]\n",
    "y = df['Lung_Cancer']\n",
    "print(\"Shape: \", X.shape, y.shape)"
   ]
  },
  {
   "cell_type": "code",
   "execution_count": null,
   "id": "559fb19c",
   "metadata": {},
   "outputs": [],
   "source": [
    "#split the data into X_train, X_test, y_train, y_test\n",
    "X_train, X_test, y_train, y_test = train_test_split(X, y, random_state=42, train_size=0.8)"
   ]
  },
  {
   "cell_type": "code",
   "execution_count": null,
   "id": "e2b62047",
   "metadata": {},
   "outputs": [],
   "source": [
    "scaler = StandardScaler().fit(X_train)\n",
    "X_train_scaled = scaler.transform(X_train)\n",
    "X_test_scaled = scaler.transform(X_test)"
   ]
  },
  {
   "cell_type": "code",
   "execution_count": null,
   "id": "6a1ec606",
   "metadata": {},
   "outputs": [],
   "source": [
    "#train a Random Forest Classifier model and print the model score\n",
    "clf = RandomForestClassifier(random_state=42, n_estimators=50).fit(X_train_scaled, y_train)\n",
    "print(f\"Training Score: {clf.score(X_train_scaled, y_train)}\")\n",
    "print(f\"Testing Score: {clf.score(X_test_scaled, y_test)}\")"
   ]
  }
 ],
 "metadata": {
  "kernelspec": {
   "display_name": "Python [conda env:PythonData38] *",
   "language": "python",
   "name": "conda-env-PythonData38-py"
  },
  "language_info": {
   "codemirror_mode": {
    "name": "ipython",
    "version": 3
   },
   "file_extension": ".py",
   "mimetype": "text/x-python",
   "name": "python",
   "nbconvert_exporter": "python",
   "pygments_lexer": "ipython3",
   "version": "3.8.12"
  }
 },
 "nbformat": 4,
 "nbformat_minor": 5
}
